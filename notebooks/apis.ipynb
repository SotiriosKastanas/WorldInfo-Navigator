{
 "cells": [
  {
   "cell_type": "code",
   "execution_count": 1,
   "metadata": {},
   "outputs": [
    {
     "data": {
      "text/plain": [
       "True"
      ]
     },
     "execution_count": 1,
     "metadata": {},
     "output_type": "execute_result"
    }
   ],
   "source": [
    "from dotenv import load_dotenv\n",
    "import os\n",
    "import requests\n",
    "import datetime\n",
    "\n",
    "load_dotenv()"
   ]
  },
  {
   "cell_type": "markdown",
   "metadata": {},
   "source": [
    "## Time Information"
   ]
  },
  {
   "cell_type": "code",
   "execution_count": 2,
   "metadata": {},
   "outputs": [
    {
     "data": {
      "text/plain": [
       "{'city': 'Athens',\n",
       " 'latitude': 37.9838096,\n",
       " 'longitude': 23.7275388,\n",
       " 'time_zone_id': 'Europe/Athens',\n",
       " 'time_zone_name': 'Eastern European Standard Time',\n",
       " 'local_time': '2025-03-21 13:36:14'}"
      ]
     },
     "execution_count": 2,
     "metadata": {},
     "output_type": "execute_result"
    }
   ],
   "source": [
    "\n",
    "API_KEY = os.getenv(\"GOOGLE_MAPS_API_KEY\")\n",
    "\n",
    "def get_time_info(city_name):\n",
    "    \"\"\"Fetch latitude, longitude, and time zone information from a city name.\"\"\"\n",
    "    \n",
    "    # Step 1: Get Latitude & Longitude\n",
    "    geocode_url = f\"https://maps.googleapis.com/maps/api/geocode/json?address={city_name}&key={API_KEY}\"\n",
    "    geocode_response = requests.get(geocode_url).json()\n",
    "\n",
    "    if geocode_response[\"status\"] != \"OK\":\n",
    "        print(f\"Error in Geocoding: {geocode_response['status']}\")\n",
    "        return None\n",
    "\n",
    "    location = geocode_response[\"results\"][0][\"geometry\"][\"location\"]\n",
    "    lat, lon = location[\"lat\"], location[\"lng\"]\n",
    "\n",
    "    # Step 2: Get Time Zone Information\n",
    "    timestamp = int(datetime.datetime.utcnow().timestamp())\n",
    "    timezone_url = f\"https://maps.googleapis.com/maps/api/timezone/json?location={lat},{lon}&timestamp={timestamp}&key={API_KEY}\"\n",
    "    timezone_response = requests.get(timezone_url).json()\n",
    "\n",
    "    if timezone_response[\"status\"] != \"OK\":\n",
    "        print(f\"Error in Time Zone API: {timezone_response['status']}\")\n",
    "        return None\n",
    "\n",
    "    time_zone_id = timezone_response[\"timeZoneId\"]\n",
    "    time_zone_name = timezone_response[\"timeZoneName\"]\n",
    "    raw_offset = timezone_response[\"rawOffset\"] \n",
    "    dst_offset = timezone_response[\"dstOffset\"]\n",
    "    local_offset = raw_offset + dst_offset\n",
    "    local_time = datetime.datetime.utcnow() + datetime.timedelta(seconds=local_offset)\n",
    "\n",
    "    # print(f\"📍 City: {city_name}\")\n",
    "    # print(f\"🌍 Coordinates: ({lat}, {lon})\")\n",
    "    # print(f\"🕒 Time Zone ID: {time_zone_id}\")\n",
    "    # print(f\"⏳ Time Zone Name: {time_zone_name}\")\n",
    "    # print(f\"⏰ Local Time: {local_time.strftime('%Y-%m-%d %H:%M:%S')}\")\n",
    "\n",
    "    return {\n",
    "        \"city\": city_name,\n",
    "        \"latitude\": lat,\n",
    "        \"longitude\": lon,\n",
    "        \"time_zone_id\": time_zone_id,\n",
    "        \"time_zone_name\": time_zone_name,\n",
    "        \"local_time\": local_time.strftime('%Y-%m-%d %H:%M:%S')\n",
    "    }\n",
    "\n",
    "get_time_info(\"Tokyo\")\n",
    "get_time_info(\"New York\")\n",
    "get_time_info(\"Athens\")\n"
   ]
  },
  {
   "cell_type": "markdown",
   "metadata": {},
   "source": [
    "## Country Info"
   ]
  },
  {
   "cell_type": "code",
   "execution_count": 3,
   "metadata": {},
   "outputs": [
    {
     "name": "stdout",
     "output_type": "stream",
     "text": [
      "\n",
      "🌍 Country: Netherlands\n",
      "🏛️ Capital: Amsterdam\n",
      "👥 Population: 16655799\n",
      "🌎 Region: Europe, Western Europe\n",
      "💰 Currency: EUR\n",
      "🗣️ Languages: Dutch\n",
      "🏴 Flag: https://flagcdn.com/w320/nl.png\n",
      "\n",
      "🌍 Country: France\n",
      "🏛️ Capital: Paris\n",
      "👥 Population: 67391582\n",
      "🌎 Region: Europe, Western Europe\n",
      "💰 Currency: EUR\n",
      "🗣️ Languages: French\n",
      "🏴 Flag: https://flagcdn.com/w320/fr.png\n",
      "\n",
      "🌍 Country: United Arab Emirates\n",
      "🏛️ Capital: Abu Dhabi\n",
      "👥 Population: 9890400\n",
      "🌎 Region: Asia, Western Asia\n",
      "💰 Currency: AED\n",
      "🗣️ Languages: Arabic\n",
      "🏴 Flag: https://flagcdn.com/w320/ae.png\n"
     ]
    },
    {
     "data": {
      "text/plain": [
       "{'country': 'United Arab Emirates',\n",
       " 'capital': 'Abu Dhabi',\n",
       " 'population': 9890400,\n",
       " 'region': 'Asia',\n",
       " 'subregion': 'Western Asia',\n",
       " 'currency': 'AED',\n",
       " 'languages': 'Arabic',\n",
       " 'flag': 'https://flagcdn.com/w320/ae.png'}"
      ]
     },
     "execution_count": 3,
     "metadata": {},
     "output_type": "execute_result"
    }
   ],
   "source": [
    "import requests\n",
    "\n",
    "def get_country_info(country_name):\n",
    "    \"\"\"\n",
    "    Fetches country details from the RestCountries API.\n",
    "    - country_name: Name of the country (e.g., \"Japan\", \"France\")\n",
    "    \"\"\"\n",
    "\n",
    "    url = f\"https://restcountries.com/v3.1/name/{country_name}\"\n",
    "    response = requests.get(url)\n",
    "\n",
    "    if response.status_code == 200:\n",
    "        country_data = response.json()[0]  # Get first match\n",
    "\n",
    "        # Extract relevant data\n",
    "        name = country_data.get(\"name\", {}).get(\"common\", \"Unknown\")\n",
    "        capital = country_data.get(\"capital\", [\"Unknown\"])[0]\n",
    "        population = country_data.get(\"population\", \"Unknown\")\n",
    "        region = country_data.get(\"region\", \"Unknown\")\n",
    "        subregion = country_data.get(\"subregion\", \"Unknown\")\n",
    "        currency = list(country_data.get(\"currencies\", {}).keys())[0] if \"currencies\" in country_data else \"Unknown\"\n",
    "        languages = \", \".join(country_data.get(\"languages\", {}).values()) if \"languages\" in country_data else \"Unknown\"\n",
    "        flag = country_data.get(\"flags\", {}).get(\"png\", \"\")\n",
    "\n",
    "        print(f\"\\n🌍 Country: {name}\")\n",
    "        print(f\"🏛️ Capital: {capital}\")\n",
    "        print(f\"👥 Population: {population}\")\n",
    "        print(f\"🌎 Region: {region}, {subregion}\")\n",
    "        print(f\"💰 Currency: {currency}\")\n",
    "        print(f\"🗣️ Languages: {languages}\")\n",
    "        print(f\"🏴 Flag: {flag}\")\n",
    "\n",
    "        return {\n",
    "            \"country\": name,\n",
    "            \"capital\": capital,\n",
    "            \"population\": population,\n",
    "            \"region\": region,\n",
    "            \"subregion\": subregion,\n",
    "            \"currency\": currency,\n",
    "            \"languages\": languages,\n",
    "            \"flag\": flag,\n",
    "        }\n",
    "\n",
    "    else:\n",
    "        print(f\"Error: Could not fetch data for '{country_name}'\")\n",
    "        return None\n",
    "\n",
    "# Example Usage\n",
    "get_country_info(\"Netherlands\")\n",
    "get_country_info(\"France\")\n",
    "get_country_info(\"UAE\")\n"
   ]
  },
  {
   "cell_type": "markdown",
   "metadata": {},
   "source": [
    "## Weather Data"
   ]
  },
  {
   "cell_type": "code",
   "execution_count": 4,
   "metadata": {},
   "outputs": [
    {
     "name": "stdout",
     "output_type": "stream",
     "text": [
      "\n",
      "🌍 City: Abu Dhabi, AE\n",
      "🌡️ Temperature: 38.01°C\n",
      "💧 Humidity: 11%\n",
      "🌤️ Condition: Clear sky\n",
      "💨 Wind Speed: 2.57 m/s\n",
      "\n",
      "🌍 City: Cambridge, CA\n",
      "🌡️ Temperature: -3.79°C\n",
      "💧 Humidity: 80%\n",
      "🌤️ Condition: Scattered clouds\n",
      "💨 Wind Speed: 3.09 m/s\n",
      "\n",
      "🌍 City: Pátrai, GR\n",
      "🌡️ Temperature: 15.4°C\n",
      "💧 Humidity: 55%\n",
      "🌤️ Condition: Clear sky\n",
      "💨 Wind Speed: 2.4 m/s\n"
     ]
    },
    {
     "data": {
      "text/plain": [
       "{'city': 'Pátrai',\n",
       " 'country': 'GR',\n",
       " 'temperature': 15.4,\n",
       " 'humidity': 55,\n",
       " 'condition': 'Clear sky',\n",
       " 'wind_speed': 2.4}"
      ]
     },
     "execution_count": 4,
     "metadata": {},
     "output_type": "execute_result"
    }
   ],
   "source": [
    "import requests\n",
    "\n",
    "OPENWEATHER_API_KEY = os.getenv('OPENWEATHER_API_KEY')\n",
    "\n",
    "def get_weather(city_name):\n",
    "    \"\"\"\n",
    "    Fetches real-time weather data using OpenWeather API (Free Plan).\n",
    "    \"\"\"\n",
    "\n",
    "    url = f\"https://api.openweathermap.org/data/2.5/weather?q={city_name}&appid={OPENWEATHER_API_KEY}&units=metric\"\n",
    "\n",
    "    response = requests.get(url)\n",
    "\n",
    "    if response.status_code == 200:\n",
    "        weather_data = response.json()\n",
    "\n",
    "        city = weather_data[\"name\"]\n",
    "        country = weather_data[\"sys\"][\"country\"]\n",
    "        temperature = weather_data[\"main\"][\"temp\"]\n",
    "        humidity = weather_data[\"main\"][\"humidity\"]\n",
    "        condition = weather_data[\"weather\"][0][\"description\"].capitalize()\n",
    "        wind_speed = weather_data[\"wind\"][\"speed\"]\n",
    "\n",
    "        print(f\"\\n🌍 City: {city}, {country}\")\n",
    "        print(f\"🌡️ Temperature: {temperature}°C\")\n",
    "        print(f\"💧 Humidity: {humidity}%\")\n",
    "        print(f\"🌤️ Condition: {condition}\")\n",
    "        print(f\"💨 Wind Speed: {wind_speed} m/s\")\n",
    "\n",
    "        return {\n",
    "            \"city\": city,\n",
    "            \"country\": country,\n",
    "            \"temperature\": temperature,\n",
    "            \"humidity\": humidity,\n",
    "            \"condition\": condition,\n",
    "            \"wind_speed\": wind_speed,\n",
    "        }\n",
    "\n",
    "    else:\n",
    "        print(f\"Error: Could not fetch weather data for '{city_name}'\")\n",
    "        return None\n",
    "\n",
    "# Example Usage\n",
    "get_weather(\"Abu Dhabi\")\n",
    "get_weather(\"Cambridge\")\n",
    "get_weather(\"Patras\")\n"
   ]
  },
  {
   "cell_type": "code",
   "execution_count": null,
   "metadata": {},
   "outputs": [],
   "source": []
  }
 ],
 "metadata": {
  "kernelspec": {
   "display_name": ".venv",
   "language": "python",
   "name": "python3"
  },
  "language_info": {
   "codemirror_mode": {
    "name": "ipython",
    "version": 3
   },
   "file_extension": ".py",
   "mimetype": "text/x-python",
   "name": "python",
   "nbconvert_exporter": "python",
   "pygments_lexer": "ipython3",
   "version": "3.10.11"
  }
 },
 "nbformat": 4,
 "nbformat_minor": 2
}
