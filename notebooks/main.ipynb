{
 "cells": [
  {
   "cell_type": "code",
   "execution_count": 1,
   "metadata": {},
   "outputs": [
    {
     "data": {
      "text/plain": [
       "True"
      ]
     },
     "execution_count": 1,
     "metadata": {},
     "output_type": "execute_result"
    }
   ],
   "source": [
    "import sys\n",
    "import os\n",
    "\n",
    "sys.path.append(os.path.abspath(\"..\"))  \n",
    "\n",
    "from src.tools import weather, time, country_info\n",
    "from dotenv import load_dotenv\n",
    "\n",
    "load_dotenv()"
   ]
  },
  {
   "cell_type": "markdown",
   "metadata": {},
   "source": [
    "# Tools"
   ]
  },
  {
   "cell_type": "markdown",
   "metadata": {},
   "source": [
    "## Weather"
   ]
  },
  {
   "cell_type": "code",
   "execution_count": 2,
   "metadata": {},
   "outputs": [
    {
     "name": "stdout",
     "output_type": "stream",
     "text": [
      "\n",
      "🌍 City: Pátrai, GR\n",
      "🌡️ Temperature: 15.4°C\n",
      "💧 Humidity: 55%\n",
      "🌤️ Condition: Clear sky\n",
      "💨 Wind Speed: 2.4 m/s\n"
     ]
    }
   ],
   "source": [
    "a = weather.get_weather('Patras')\n",
    "\n",
    "print(f\"\\n🌍 City: {a['city']}, {a['country']}\")\n",
    "print(f\"🌡️ Temperature: {a['temperature']}°C\")\n",
    "print(f\"💧 Humidity: {a['humidity']}%\")\n",
    "print(f\"🌤️ Condition: {a['condition']}\")\n",
    "print(f\"💨 Wind Speed: {a['wind_speed']} m/s\")\n"
   ]
  },
  {
   "cell_type": "markdown",
   "metadata": {},
   "source": [
    "## Time"
   ]
  },
  {
   "cell_type": "code",
   "execution_count": 3,
   "metadata": {},
   "outputs": [
    {
     "name": "stdout",
     "output_type": "stream",
     "text": [
      "📍 City: Harare\n",
      "🌍 Coordinates: (-17.8262928, 31.0503723)\n",
      "🕒 Time Zone ID: Africa/Harare\n",
      "⏳ Time Zone Name: Central Africa Time\n",
      "⏰ Local Time: 2025-03-21 13:36:28\n"
     ]
    }
   ],
   "source": [
    "a = time.get_time_info('Harare')\n",
    "\n",
    "print(f\"📍 City: {a['city']}\")\n",
    "print(f\"🌍 Coordinates: ({a['latitude']}, {a['longitude']})\")\n",
    "print(f\"🕒 Time Zone ID: {a['time_zone_id']}\")\n",
    "print(f\"⏳ Time Zone Name: {a['time_zone_name']}\")\n",
    "print(f\"⏰ Local Time: {a['local_time']}\")\n"
   ]
  },
  {
   "cell_type": "markdown",
   "metadata": {},
   "source": [
    "## Country"
   ]
  },
  {
   "cell_type": "code",
   "execution_count": 4,
   "metadata": {},
   "outputs": [],
   "source": [
    "a = country_info.get_country_info('UAE')"
   ]
  },
  {
   "cell_type": "code",
   "execution_count": 5,
   "metadata": {},
   "outputs": [
    {
     "name": "stdout",
     "output_type": "stream",
     "text": [
      "\n",
      "🌍 Country: United Arab Emirates\n",
      "🏛️ Capital: Abu Dhabi\n",
      "👥 Population: 9890400\n",
      "🌎 Region: region, subregion\n",
      "💰 Currency: currency\n",
      "🗣️ Languages: languages\n",
      "🏴 Flag: https://flagcdn.com/w320/ae.png\n"
     ]
    }
   ],
   "source": [
    "print(f\"\\n🌍 Country: {a['country']}\")\n",
    "print(f\"🏛️ Capital: {a['capital']}\")\n",
    "print(f\"👥 Population: {a['population']}\")\n",
    "print(f\"🌎 Region: {'region'}, {'subregion'}\")\n",
    "print(f\"💰 Currency: {'currency'}\")\n",
    "print(f\"🗣️ Languages: {'languages'}\")\n",
    "print(f\"🏴 Flag: {a['flag']}\")\n"
   ]
  },
  {
   "cell_type": "code",
   "execution_count": null,
   "metadata": {},
   "outputs": [],
   "source": []
  },
  {
   "cell_type": "code",
   "execution_count": null,
   "metadata": {},
   "outputs": [],
   "source": []
  },
  {
   "cell_type": "code",
   "execution_count": null,
   "metadata": {},
   "outputs": [],
   "source": []
  }
 ],
 "metadata": {
  "kernelspec": {
   "display_name": ".venv",
   "language": "python",
   "name": "python3"
  },
  "language_info": {
   "codemirror_mode": {
    "name": "ipython",
    "version": 3
   },
   "file_extension": ".py",
   "mimetype": "text/x-python",
   "name": "python",
   "nbconvert_exporter": "python",
   "pygments_lexer": "ipython3",
   "version": "3.10.11"
  }
 },
 "nbformat": 4,
 "nbformat_minor": 2
}
